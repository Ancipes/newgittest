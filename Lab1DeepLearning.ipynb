{
  "nbformat": 4,
  "nbformat_minor": 0,
  "metadata": {
    "kernelspec": {
      "display_name": "Python 3",
      "language": "python",
      "name": "python3"
    },
    "language_info": {
      "codemirror_mode": {
        "name": "ipython",
        "version": 3
      },
      "file_extension": ".py",
      "mimetype": "text/x-python",
      "name": "python",
      "nbconvert_exporter": "python",
      "pygments_lexer": "ipython3",
      "version": "3.7.4"
    },
    "colab": {
      "name": "Lab1DeepLearning.ipynb",
      "provenance": [],
      "collapsed_sections": [],
      "include_colab_link": true
    }
  },
  "cells": [
    {
      "cell_type": "markdown",
      "metadata": {
        "id": "view-in-github",
        "colab_type": "text"
      },
      "source": [
        "<a href=\"https://colab.research.google.com/github/Ancipes/newgittest/blob/master/Lab1DeepLearning.ipynb\" target=\"_parent\"><img src=\"https://colab.research.google.com/assets/colab-badge.svg\" alt=\"Open In Colab\"/></a>"
      ]
    },
    {
      "cell_type": "markdown",
      "metadata": {
        "id": "o0ZUnVc2BT4N",
        "colab_type": "text"
      },
      "source": [
        "Question 1"
      ]
    },
    {
      "cell_type": "code",
      "metadata": {
        "id": "KfEDgd8jBT4Q",
        "colab_type": "code",
        "colab": {
          "base_uri": "https://localhost:8080/",
          "height": 34
        },
        "outputId": "f55b4725-6f80-46ba-91eb-1ef3ab70e944"
      },
      "source": [
        "import numpy as np\n",
        "np.nonzero([1,2,3,4,0,0,7,0,8,9])"
      ],
      "execution_count": 1,
      "outputs": [
        {
          "output_type": "execute_result",
          "data": {
            "text/plain": [
              "(array([0, 1, 2, 3, 6, 8, 9]),)"
            ]
          },
          "metadata": {
            "tags": []
          },
          "execution_count": 1
        }
      ]
    },
    {
      "cell_type": "markdown",
      "metadata": {
        "id": "dj3LgnOFBT4Y",
        "colab_type": "text"
      },
      "source": [
        "Question 2"
      ]
    },
    {
      "cell_type": "code",
      "metadata": {
        "id": "AGFcejk0BT4Z",
        "colab_type": "code",
        "colab": {},
        "outputId": "a04e9b74-4875-47d6-ad97-b98ae029cc1c"
      },
      "source": [
        "np.random.rand(2,4,3)"
      ],
      "execution_count": 0,
      "outputs": [
        {
          "output_type": "execute_result",
          "data": {
            "text/plain": [
              "array([[[0.9508751 , 0.92904139, 0.28258294],\n",
              "        [0.12450221, 0.90792518, 0.7208554 ],\n",
              "        [0.36052138, 0.25663468, 0.91000142],\n",
              "        [0.08032011, 0.86114113, 0.89893947]],\n",
              "\n",
              "       [[0.47256213, 0.03867524, 0.49290621],\n",
              "        [0.09193366, 0.95297823, 0.31056901],\n",
              "        [0.90661206, 0.92371274, 0.92936134],\n",
              "        [0.91551535, 0.40521722, 0.50062076]]])"
            ]
          },
          "metadata": {
            "tags": []
          },
          "execution_count": 3
        }
      ]
    },
    {
      "cell_type": "markdown",
      "metadata": {
        "id": "hRjDhrJHBT4f",
        "colab_type": "text"
      },
      "source": [
        "Question 3"
      ]
    },
    {
      "cell_type": "code",
      "metadata": {
        "id": "aQ8IsS4WBT4g",
        "colab_type": "code",
        "colab": {},
        "outputId": "311d22c6-eda8-4b7c-93f1-4bbe6fb57fdc"
      },
      "source": [
        "x = [1,2,3,5,7,8,9]\n",
        "y = [10,22,33,55,77,88,99]\n",
        "z = np.polyfit(x, y, 3)\n",
        "z"
      ],
      "execution_count": 0,
      "outputs": [
        {
          "output_type": "execute_result",
          "data": {
            "text/plain": [
              "array([ 0.01292802, -0.22814087, 12.22340728, -1.88883309])"
            ]
          },
          "metadata": {
            "tags": []
          },
          "execution_count": 4
        }
      ]
    },
    {
      "cell_type": "markdown",
      "metadata": {
        "id": "JxN3cuuFBT4n",
        "colab_type": "text"
      },
      "source": [
        "Question 4"
      ]
    },
    {
      "cell_type": "code",
      "metadata": {
        "id": "cxFRv02pBT4p",
        "colab_type": "code",
        "colab": {}
      },
      "source": [
        "x = 5\n",
        "y = 10\n",
        "x, y = y, x"
      ],
      "execution_count": 0,
      "outputs": []
    },
    {
      "cell_type": "markdown",
      "metadata": {
        "id": "Ft9X6lrOBT4u",
        "colab_type": "text"
      },
      "source": [
        "Question 5"
      ]
    },
    {
      "cell_type": "code",
      "metadata": {
        "id": "5PvMWVmaBT4w",
        "colab_type": "code",
        "colab": {},
        "outputId": "5e1077e0-6f3b-4bbf-8710-4b549aef2ba5"
      },
      "source": [
        "#Converting to Polar Coordinates\n",
        "r= [[0.90402748, 0.75856483],\n",
        "       [0.10793725, 0.16948372],\n",
        "       [0.74821018, 0.28913789],\n",
        "       [0.24983612, 0.28857679]]\n",
        "def cart2pol(mat):\n",
        "    converted=[]\n",
        "    for x,y in mat:\n",
        "        theta= np.sqrt(x**2 + y**2)\n",
        "        rho=np.arctan2(y,x)\n",
        "        converted.append([theta, rho])\n",
        "    return converted\n",
        "cart2pol(r)"
      ],
      "execution_count": 0,
      "outputs": [
        {
          "output_type": "execute_result",
          "data": {
            "text/plain": [
              "[[1.1801213013534158, 0.6981289127850506],\n",
              " [0.20093576407051308, 1.0037145322934673],\n",
              " [0.8021341489360021, 0.3687618203282536],\n",
              " [0.3816996863810062, 0.8572278295237318]]"
            ]
          },
          "metadata": {
            "tags": []
          },
          "execution_count": 8
        }
      ]
    },
    {
      "cell_type": "markdown",
      "metadata": {
        "id": "gOULxGMtBT43",
        "colab_type": "text"
      },
      "source": [
        "Question 6"
      ]
    },
    {
      "cell_type": "code",
      "metadata": {
        "id": "zajnwMo8BT44",
        "colab_type": "code",
        "colab": {},
        "outputId": "8dacfb24-fcc1-4770-c94b-d6c86429beec"
      },
      "source": [
        "r=np.array([[9, 8, 1],\n",
        "       [7, 6, 8],\n",
        "       [2, 2, 3]])\n",
        "r = sorted(r, key=lambda a_entry: a_entry[1]) \n",
        "print (r)"
      ],
      "execution_count": 0,
      "outputs": [
        {
          "output_type": "stream",
          "text": [
            "[array([2, 2, 3]), array([7, 6, 8]), array([9, 8, 1])]\n"
          ],
          "name": "stdout"
        }
      ]
    },
    {
      "cell_type": "markdown",
      "metadata": {
        "id": "rZ1me-1sBT47",
        "colab_type": "text"
      },
      "source": [
        "Question 7"
      ]
    },
    {
      "cell_type": "code",
      "metadata": {
        "id": "MIJqNdv4BT49",
        "colab_type": "code",
        "colab": {},
        "outputId": "e841ba1f-2050-4f1d-97ac-1d521550e6f2"
      },
      "source": [
        "r=np.array([[6, 7, 4, 9],\n",
        "       [9, 7, 1, 7],\n",
        "       [5, 0, 3, 9]])\n",
        "r.reshape(2,6)"
      ],
      "execution_count": 0,
      "outputs": [
        {
          "output_type": "execute_result",
          "data": {
            "text/plain": [
              "array([[6, 7, 4, 9, 9, 7],\n",
              "       [1, 7, 5, 0, 3, 9]])"
            ]
          },
          "metadata": {
            "tags": []
          },
          "execution_count": 10
        }
      ]
    },
    {
      "cell_type": "markdown",
      "metadata": {
        "id": "KSumjGL3BT5D",
        "colab_type": "text"
      },
      "source": [
        "Question 8"
      ]
    },
    {
      "cell_type": "code",
      "metadata": {
        "id": "GCx1IkOLBT5E",
        "colab_type": "code",
        "colab": {}
      },
      "source": [
        "my =np.array([[5 ,6,  7,  8,  9],\n",
        "   [ 0,  1,  2,  3,  4],\n",
        "   [10, 11, 12, 13, 14],\n",
        "   [15 ,16 ,17, 18, 19],\n",
        "   [20 ,21, 22, 23, 24]])\n",
        "\n",
        "my[[2, 3]] = my[[3, 2]]"
      ],
      "execution_count": 0,
      "outputs": []
    },
    {
      "cell_type": "markdown",
      "metadata": {
        "id": "ta86PHqUBT5L",
        "colab_type": "text"
      },
      "source": [
        "Question 9"
      ]
    },
    {
      "cell_type": "code",
      "metadata": {
        "id": "L7feyB2OBT5M",
        "colab_type": "code",
        "colab": {
          "base_uri": "https://localhost:8080/",
          "height": 105
        },
        "outputId": "334e8f5a-c49b-4e01-f607-57cb5d432fbe"
      },
      "source": [
        "x =  np.arange(4,13).reshape(3,3)\n",
        "print(x)\n",
        "print(\"Sum is\")\n",
        "print(x.sum(axis=0))\n"
      ],
      "execution_count": 4,
      "outputs": [
        {
          "output_type": "stream",
          "text": [
            "[[ 4  5  6]\n",
            " [ 7  8  9]\n",
            " [10 11 12]]\n",
            "Sum is\n",
            "[21 24 27]\n"
          ],
          "name": "stdout"
        }
      ]
    },
    {
      "cell_type": "markdown",
      "metadata": {
        "id": "bdAvMvbRBT5R",
        "colab_type": "text"
      },
      "source": [
        "Question 10"
      ]
    },
    {
      "cell_type": "code",
      "metadata": {
        "id": "F43k73a2BT5R",
        "colab_type": "code",
        "colab": {},
        "outputId": "66fd2f1f-a1ae-4429-ca7d-49d2e3c99657"
      },
      "source": [
        "mu,sigma=50,25\n",
        "s = np.random.normal(mu, sigma, 100)\n",
        "print(s)"
      ],
      "execution_count": 0,
      "outputs": [
        {
          "output_type": "stream",
          "text": [
            "[ 29.72015336  62.03560417  61.44697857 104.24471963  31.60345125\n",
            "  19.49822806  60.59897707  10.9328772   25.66510865  12.32822256\n",
            "  42.73360815  81.23110935  60.49256593  13.6940517   49.41011206\n",
            "  78.24333407  76.82444984  40.8690667   66.87418042  79.7250953\n",
            "  44.89009857  85.9125151  102.29706485  54.85859494  65.45741313\n",
            "  45.19496336  80.84552759  85.06744972  30.83683461  70.34057582\n",
            "  51.70566852  63.62923034  46.97216121   1.50268387  55.21613534\n",
            "  76.66670136  67.07870966  42.51542054  42.18968106  28.78325466\n",
            "  48.74467714 100.85645661  47.47604424  67.22358265  38.58523346\n",
            "   4.40168107  59.71535258  86.93358349  81.03509146  50.01980937\n",
            "  97.91402216  52.11624292   4.17880275   7.06076393  17.93634286\n",
            "  27.15014619  51.44381746  60.68353914  21.19667061  46.04868103\n",
            "  -6.87289477  85.08426956   6.90757928  23.81300543  29.96316341\n",
            "   1.96202517  35.64645133  51.50646494  33.29556408  49.90663582\n",
            "  59.93426933  69.89552344  46.23323019  32.20647174  82.38227705\n",
            "   6.19329471  92.20093827  77.8679161   59.94038286  48.13562648\n",
            "  47.81916763  43.90443643  51.27755604  33.11852923  53.79009335\n",
            "  55.37284822  40.60091308  25.6874176    4.40800285  53.50684808\n",
            "  80.57504407  89.73775225  31.73142766  78.80631491  69.22618971\n",
            "  63.12566515  39.22960946  74.31751433  62.7708123   39.33049305]\n"
          ],
          "name": "stdout"
        }
      ]
    },
    {
      "cell_type": "markdown",
      "metadata": {
        "id": "20cnhV5eBT5Y",
        "colab_type": "text"
      },
      "source": [
        "Question 11"
      ]
    },
    {
      "cell_type": "code",
      "metadata": {
        "id": "UwzvJOH7BT5Y",
        "colab_type": "code",
        "colab": {},
        "outputId": "5861012d-68df-4de9-9215-2a321c0c7be8"
      },
      "source": [
        "np.random.uniform(low=1.0, high=2.009, size=100)"
      ],
      "execution_count": 0,
      "outputs": [
        {
          "output_type": "execute_result",
          "data": {
            "text/plain": [
              "array([1.12505244, 1.39029794, 1.43199533, 1.23972981, 1.91598819,\n",
              "       1.43947724, 1.84582871, 1.96416979, 1.60752152, 2.00857173,\n",
              "       1.67209018, 1.43951777, 1.39906703, 1.3359423 , 1.88885292,\n",
              "       1.91137113, 1.82805843, 1.21340492, 1.82428649, 1.17492875,\n",
              "       1.23302982, 1.867019  , 1.62946531, 1.50844783, 1.54900546,\n",
              "       1.46967258, 1.55186494, 1.17747862, 1.96880532, 1.74912214,\n",
              "       1.11700907, 1.29134488, 1.200381  , 1.12749583, 1.64499667,\n",
              "       2.00360668, 1.64107521, 1.41719056, 1.46395863, 1.97012302,\n",
              "       1.40338016, 1.27406282, 1.79640851, 1.3499264 , 1.36869908,\n",
              "       1.59694193, 1.01317424, 1.71038595, 1.6834988 , 1.46254751,\n",
              "       1.86069403, 1.73154101, 1.81411796, 1.09380963, 1.83089904,\n",
              "       1.76945025, 1.22340392, 1.86578467, 1.30337124, 1.72071636,\n",
              "       1.55962399, 1.56235276, 1.0539826 , 1.24444896, 1.50120156,\n",
              "       1.74401468, 1.2377785 , 1.14062821, 1.4638342 , 1.860492  ,\n",
              "       1.63810651, 1.98006706, 1.78832977, 1.54869787, 1.09234911,\n",
              "       1.10746371, 1.70863032, 1.79172931, 1.04555126, 1.49512291,\n",
              "       1.82118184, 1.37828303, 1.79160814, 1.0066301 , 1.62385488,\n",
              "       1.92735913, 1.57894848, 1.48608124, 1.25636934, 1.78781652,\n",
              "       1.95815027, 1.90746187, 1.39601291, 1.44150966, 1.91409377,\n",
              "       1.27754044, 1.20984232, 1.9451945 , 1.24884702, 1.61872763])"
            ]
          },
          "metadata": {
            "tags": []
          },
          "execution_count": 14
        }
      ]
    },
    {
      "cell_type": "markdown",
      "metadata": {
        "id": "eF7voKraBT5e",
        "colab_type": "text"
      },
      "source": [
        "Question 12"
      ]
    },
    {
      "cell_type": "code",
      "metadata": {
        "id": "49NUIfRnBT5f",
        "colab_type": "code",
        "colab": {},
        "outputId": "ffa8f90a-d008-416e-b148-8ff460c0fadf"
      },
      "source": [
        "matrix=np.array([[1,2],[3,4]])\n",
        "matrix=np.pad(matrix,(2,2),'constant',constant_values=4)\n",
        "matrix"
      ],
      "execution_count": 0,
      "outputs": [
        {
          "output_type": "execute_result",
          "data": {
            "text/plain": [
              "array([[4, 4, 4, 4, 4, 4],\n",
              "       [4, 4, 4, 4, 4, 4],\n",
              "       [4, 4, 1, 2, 4, 4],\n",
              "       [4, 4, 3, 4, 4, 4],\n",
              "       [4, 4, 4, 4, 4, 4],\n",
              "       [4, 4, 4, 4, 4, 4]])"
            ]
          },
          "metadata": {
            "tags": []
          },
          "execution_count": 15
        }
      ]
    },
    {
      "cell_type": "markdown",
      "metadata": {
        "id": "Md_YGmJ1BT5k",
        "colab_type": "text"
      },
      "source": [
        "Question 13"
      ]
    },
    {
      "cell_type": "code",
      "metadata": {
        "id": "mf0S-xwlBT5l",
        "colab_type": "code",
        "colab": {},
        "outputId": "de9da2fa-86a3-43c6-ea1a-3c96d228d870"
      },
      "source": [
        "X =np.array([[0.67761292, 0.25098906, 0.9896389 , 0.03984259],\n",
        "       [0.43531304, 0.6484998 , 0.1093794 , 0.27807689],\n",
        "       [0.94128699, 0.40438965, 0.48774248, 0.22121119],\n",
        "       [0.69914384, 0.8867764 , 0.78931774, 0.61951994]])\n",
        "\n",
        "print(X[1][1],X[1][2],X[2][1],X[2][2])"
      ],
      "execution_count": 0,
      "outputs": [
        {
          "output_type": "stream",
          "text": [
            "0.6484998 0.1093794 0.40438965 0.48774248\n"
          ],
          "name": "stdout"
        }
      ]
    },
    {
      "cell_type": "markdown",
      "metadata": {
        "id": "vlBomnPOBT5q",
        "colab_type": "text"
      },
      "source": [
        "Question 14"
      ]
    },
    {
      "cell_type": "code",
      "metadata": {
        "id": "HpNq_KGoBT5r",
        "colab_type": "code",
        "colab": {},
        "outputId": "79b411e6-6b54-443b-a7e2-7992f05895e3"
      },
      "source": [
        "x =  np.arange(4,10).reshape(2,3)\n",
        "print(x)"
      ],
      "execution_count": 0,
      "outputs": [
        {
          "output_type": "stream",
          "text": [
            "[[4 5 6]\n",
            " [7 8 9]]\n"
          ],
          "name": "stdout"
        }
      ]
    },
    {
      "cell_type": "markdown",
      "metadata": {
        "id": "uL7mm4nREb7b",
        "colab_type": "text"
      },
      "source": [
        "Question 15\n"
      ]
    },
    {
      "cell_type": "code",
      "metadata": {
        "id": "Kd_kzlK6BT5y",
        "colab_type": "code",
        "colab": {},
        "outputId": "e4e72b81-6ecc-4970-b289-1431476c181f"
      },
      "source": [
        "x =  np.arange(4,10).reshape(2,3)\n",
        "print(x)"
      ],
      "execution_count": 0,
      "outputs": [
        {
          "output_type": "stream",
          "text": [
            "[[4 5 6]\n",
            " [7 8 9]]\n"
          ],
          "name": "stdout"
        }
      ]
    }
  ]
}